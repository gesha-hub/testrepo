{
 "cells": [
  {
   "cell_type": "markdown",
   "id": "ae1818aa-fd29-4144-8f8e-fc2f4b4627fb",
   "metadata": {},
   "source": [
    "**Objectives:** List popular languages for Data Science\n",
    "\n"
   ]
  },
  {
   "cell_type": "markdown",
   "id": "cdb825f9-2800-48b8-b05d-0c668fe79295",
   "metadata": {},
   "source": [
    "- C++\n",
    "- Java\n",
    "- JavaScript\n",
    "- Julia"
   ]
  },
  {
   "cell_type": "markdown",
   "id": "48f9edae-0684-4a47-99ef-37f7f61b929c",
   "metadata": {},
   "source": [
    "## Author: Hennadii Siedoi"
   ]
  },
  {
   "cell_type": "code",
   "execution_count": null,
   "id": "d5c96beb-2e82-4c8e-b38a-d06c338b3a80",
   "metadata": {},
   "outputs": [],
   "source": []
  }
 ],
 "metadata": {
  "kernelspec": {
   "display_name": "R",
   "language": "R",
   "name": "ir"
  },
  "language_info": {
   "codemirror_mode": "r",
   "file_extension": ".r",
   "mimetype": "text/x-r-source",
   "name": "R",
   "pygments_lexer": "r",
   "version": "3.6.1"
  }
 },
 "nbformat": 4,
 "nbformat_minor": 5
}
